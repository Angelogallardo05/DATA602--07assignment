{
  "nbformat": 4,
  "nbformat_minor": 0,
  "metadata": {
    "colab": {
      "provenance": [],
      "include_colab_link": true
    },
    "kernelspec": {
      "name": "python3",
      "display_name": "Python 3"
    }
  },
  "cells": [
    {
      "cell_type": "markdown",
      "metadata": {
        "id": "view-in-github",
        "colab_type": "text"
      },
      "source": [
        "<a href=\"https://colab.research.google.com/github/Angelogallardo05/DATA602--07assignment/blob/main/AngelGallardo07_assignment.ipynb\" target=\"_parent\"><img src=\"https://colab.research.google.com/assets/colab-badge.svg\" alt=\"Open In Colab\"/></a>"
      ]
    },
    {
      "cell_type": "markdown",
      "metadata": {
        "id": "rd2QZetSDszc"
      },
      "source": [
        "# **Assignment 7**\n",
        "\n",
        "# **Weeks 8 & 9 - Pandas**\n",
        "* In this homework assignment, you will explore and analyze a public dataset of your choosing. Since this assignment is “open-ended” in nature, you are free to expand upon the requirements below. However, you must meet the minimum requirments as indicated in each section.\n",
        "\n",
        "* You must use Pandas as the **primary tool** to process your data.\n",
        "\n",
        "* The preferred method for this analysis is in a .ipynb file. Feel free to use whichever platform of your choosing.  \n",
        " * https://www.youtube.com/watch?v=inN8seMm7UI (Getting started with Colab).\n",
        "\n",
        "* Your data should need some \"work\", or be considered \"dirty\".  You must show your skills in data cleaning/wrangling.\n",
        "\n",
        "### **Some data examples:**\n",
        "•\thttps://www.data.gov/\n",
        "\n",
        "•\thttps://opendata.cityofnewyork.us/\n",
        "\n",
        "•\thttps://datasetsearch.research.google.com/\n",
        "\n",
        "•\thttps://archive.ics.uci.edu/ml/index.php\n",
        "\n",
        "### **Resources:**\n",
        "\n",
        "•\thttps://pandas.pydata.org/pandas-docs/stable/getting_started/10min.html\n",
        "\n",
        "•\thttps://pandas.pydata.org/pandas-docs/stable/user_guide/visualization.html\n",
        "\n",
        "\n",
        "### **Headings or comments**\n",
        "**You are required to make use of comments, or headings for each section.  You must explain what your code is doing, and the results of running your code.**  Act as if you were giving this assignment to your manager - you must include clear and descriptive information for each section.\n",
        "\n",
        "### **You may work as a group or indivdually on this assignment.**\n"
      ]
    },
    {
      "cell_type": "markdown",
      "metadata": {
        "id": "uW3w6p8rqgxu"
      },
      "source": [
        "# Introduction\n",
        "\n",
        "In this section, please describe the dataset you are using.  Include a link to the source of this data.  You should also provide some explanation on why you choose this dataset."
      ]
    },
    {
      "cell_type": "markdown",
      "metadata": {
        "id": "L0PnfMOFzOXz"
      },
      "source": []
    },
    {
      "cell_type": "markdown",
      "metadata": {
        "id": "3bp8cdDxDs2t"
      },
      "source": [
        "______________\n",
        "# Data Exploration\n",
        "Import your dataset into your .ipynb, create dataframes, and explore your data.  \n",
        "\n",
        "Include:\n",
        "\n",
        "* Summary statistics means, medians, quartiles,\n",
        "* Missing value information\n",
        "* Any other relevant information about the dataset.  \n",
        "\n"
      ]
    },
    {
      "cell_type": "code",
      "metadata": {
        "id": "1OJmbafkEhhq"
      },
      "source": [
        "import pandas as pd"
      ],
      "execution_count": 56,
      "outputs": []
    },
    {
      "cell_type": "code",
      "metadata": {
        "id": "b0WTKtqozNn1",
        "outputId": "13f1f197-3f80-4235-ac40-42e209b7f870",
        "colab": {
          "base_uri": "https://localhost:8080/"
        }
      },
      "source": [
        "df = pd.read_csv('/content/Real_Estate_Sales_2001-2021_GL_20240311.csv', usecols= range(10))"
      ],
      "execution_count": 57,
      "outputs": [
        {
          "output_type": "stream",
          "name": "stderr",
          "text": [
            "<ipython-input-57-c1b25abd8393>:1: DtypeWarning: Columns (8,9) have mixed types. Specify dtype option on import or set low_memory=False.\n",
            "  df = pd.read_csv('/content/Real_Estate_Sales_2001-2021_GL_20240311.csv', usecols= range(10))\n"
          ]
        }
      ]
    },
    {
      "cell_type": "code",
      "source": [
        "print(df.head(10))"
      ],
      "metadata": {
        "id": "fT5FMuxPPRgy",
        "outputId": "1940bd9e-1448-4fba-a66e-f04d6a4463d4",
        "colab": {
          "base_uri": "https://localhost:8080/"
        }
      },
      "execution_count": 58,
      "outputs": [
        {
          "output_type": "stream",
          "name": "stdout",
          "text": [
            "   Serial Number  List Year Date Recorded     Town                Address  \\\n",
            "0        2020348       2020    09/13/2021  Ansonia        230 WAKELEE AVE   \n",
            "1          20002       2020    10/02/2020  Ashford        390 TURNPIKE RD   \n",
            "2         210317       2021    07/05/2022     Avon        53 COTSWOLD WAY   \n",
            "3         200212       2020    03/09/2021     Avon       5 CHESTNUT DRIVE   \n",
            "4         200243       2020    04/13/2021     Avon  111 NORTHINGTON DRIVE   \n",
            "5         200377       2020    07/02/2021     Avon     70 FAR HILLS DRIVE   \n",
            "6         200109       2020    12/09/2020     Avon     57 FAR HILLS DRIVE   \n",
            "7        2020180       2020    03/01/2021   Berlin    1539 FARMINGTON AVE   \n",
            "8        2020313       2020    07/01/2021   Berlin      216 WATCH HILL RD   \n",
            "9         200097       2020    06/04/2021  Bethany            23 AMITY RD   \n",
            "\n",
            "   Assessed Value  Sale Amount  Sales Ratio Property Type Residential Type  \n",
            "0        150500.0     325000.0       0.4630    Commercial              NaN  \n",
            "1        253000.0     430000.0       0.5883   Residential    Single Family  \n",
            "2        329730.0     805000.0       0.4096   Residential    Single Family  \n",
            "3        130400.0     179900.0       0.7248   Residential            Condo  \n",
            "4        619290.0     890000.0       0.6958   Residential    Single Family  \n",
            "5        862330.0    1447500.0       0.5957   Residential    Single Family  \n",
            "6        847520.0    1250000.0       0.6780   Residential    Single Family  \n",
            "7        234200.0     130000.0       1.8015   Residential       Two Family  \n",
            "8        412000.0     677500.0       0.6081   Residential    Single Family  \n",
            "9        511000.0     795000.0       0.6427    Commercial              NaN  \n"
          ]
        }
      ]
    },
    {
      "cell_type": "markdown",
      "metadata": {
        "id": "kCSLIafaEGVK"
      },
      "source": [
        "# Data Wrangling\n",
        "Create a subset of your original data and perform the following.  \n",
        "\n",
        "1. Modify multiple column names.\n",
        "\n",
        "2. Look at the structure of your data – are any variables improperly coded? Such as strings or characters? Convert to correct structure if needed.\n",
        "\n",
        "3. Fix missing and invalid values in data.\n",
        "\n",
        "4. Create new columns based on existing columns or calculations.\n",
        "\n",
        "5. Drop column(s) from your dataset.\n",
        "\n",
        "6. Drop a row(s) from your dataset.\n",
        "\n",
        "7. Sort your data based on multiple variables.\n",
        "\n",
        "8. Filter your data based on some condition.\n",
        "\n",
        "9. Convert all the string values to upper or lower cases in one column.\n",
        "\n",
        "10. Check whether numeric values are present in a given column of your dataframe.\n",
        "\n",
        "11. Group your dataset by one column, and get the mean, min, and max values by group.\n",
        "  * Groupby()\n",
        "  * agg() or .apply()\n",
        "\n",
        "12. Group your dataset by two columns and then sort the aggregated results within the groups.\n",
        "\n",
        "**You are free (and should) to add on to these questions.  Please clearly indicate in your assignment your answers to these questions.**"
      ]
    },
    {
      "cell_type": "markdown",
      "source": [
        "#2. convert column 8 , 'sales ratio' into strings"
      ],
      "metadata": {
        "id": "kEg2jSGT5ZbU"
      }
    },
    {
      "cell_type": "code",
      "metadata": {
        "id": "4VWWvvynEiQT"
      },
      "source": [
        "\n",
        "dtype_dict = {'column_8': str}"
      ],
      "execution_count": 59,
      "outputs": []
    },
    {
      "cell_type": "markdown",
      "source": [
        "1. Remove the Serial Number and Sale Amount"
      ],
      "metadata": {
        "id": "g4UQPwt25Jth"
      }
    },
    {
      "cell_type": "code",
      "source": [
        "\n",
        "df.rename(columns={'Serial Number': 'ID'}, inplace=True)\n",
        "df.rename(columns={'Sale Amount': 'Sale Price'}, inplace=True)"
      ],
      "metadata": {
        "id": "pQm3-tYEi9x2"
      },
      "execution_count": 60,
      "outputs": []
    },
    {
      "cell_type": "code",
      "source": [
        "print(df.head(10))"
      ],
      "metadata": {
        "id": "nATPKSaNXD9B",
        "outputId": "c996f97d-7cf4-41de-9fcf-07d24b65edfb",
        "colab": {
          "base_uri": "https://localhost:8080/"
        }
      },
      "execution_count": 7,
      "outputs": [
        {
          "output_type": "stream",
          "name": "stdout",
          "text": [
            "        ID  List Year Date Recorded     Town                Address  \\\n",
            "0  2020348       2020    09/13/2021  Ansonia        230 WAKELEE AVE   \n",
            "1    20002       2020    10/02/2020  Ashford        390 TURNPIKE RD   \n",
            "2   210317       2021    07/05/2022     Avon        53 COTSWOLD WAY   \n",
            "3   200212       2020    03/09/2021     Avon       5 CHESTNUT DRIVE   \n",
            "4   200243       2020    04/13/2021     Avon  111 NORTHINGTON DRIVE   \n",
            "5   200377       2020    07/02/2021     Avon     70 FAR HILLS DRIVE   \n",
            "6   200109       2020    12/09/2020     Avon     57 FAR HILLS DRIVE   \n",
            "7  2020180       2020    03/01/2021   Berlin    1539 FARMINGTON AVE   \n",
            "8  2020313       2020    07/01/2021   Berlin      216 WATCH HILL RD   \n",
            "9   200097       2020    06/04/2021  Bethany            23 AMITY RD   \n",
            "\n",
            "   Assessed Value  Sale Price  Sales Ratio Property Type Residential Type  \n",
            "0        150500.0    325000.0       0.4630    Commercial              NaN  \n",
            "1        253000.0    430000.0       0.5883   Residential    Single Family  \n",
            "2        329730.0    805000.0       0.4096   Residential    Single Family  \n",
            "3        130400.0    179900.0       0.7248   Residential            Condo  \n",
            "4        619290.0    890000.0       0.6958   Residential    Single Family  \n",
            "5        862330.0   1447500.0       0.5957   Residential    Single Family  \n",
            "6        847520.0   1250000.0       0.6780   Residential    Single Family  \n",
            "7        234200.0    130000.0       1.8015   Residential       Two Family  \n",
            "8        412000.0    677500.0       0.6081   Residential    Single Family  \n",
            "9        511000.0    795000.0       0.6427    Commercial              NaN  \n"
          ]
        }
      ]
    },
    {
      "cell_type": "markdown",
      "source": [
        "#3 remove missing values"
      ],
      "metadata": {
        "id": "bfWnu4ty5ef-"
      }
    },
    {
      "cell_type": "code",
      "source": [
        "\n",
        "missing_values = df.isna().sum()\n",
        "\n",
        "# Display the count of missing values for each column\n",
        "print(missing_values)"
      ],
      "metadata": {
        "colab": {
          "base_uri": "https://localhost:8080/"
        },
        "id": "qtiUGQL0oJFm",
        "outputId": "3c3947d3-7d29-4b89-c486-fa9d386bc5e8"
      },
      "execution_count": 61,
      "outputs": [
        {
          "output_type": "stream",
          "name": "stdout",
          "text": [
            "ID                       0\n",
            "List Year                0\n",
            "Date Recorded            2\n",
            "Town                     0\n",
            "Address                 51\n",
            "Assessed Value           0\n",
            "Sale Price               0\n",
            "Sales Ratio              0\n",
            "Property Type       382446\n",
            "Residential Type    393884\n",
            "dtype: int64\n"
          ]
        }
      ]
    },
    {
      "cell_type": "markdown",
      "source": [
        "11. Group your dataset by one column, and get the mean, min, and max values by group.\n",
        "filter sales ratio by property and get the mean, std, min, max"
      ],
      "metadata": {
        "id": "bY1-S0H55kGt"
      }
    },
    {
      "cell_type": "code",
      "source": [
        "sales_ratio_stats = df.groupby('Property Type')['Sales Ratio'].describe()"
      ],
      "metadata": {
        "id": "dcQU6LVxpFDF"
      },
      "execution_count": 62,
      "outputs": []
    },
    {
      "cell_type": "markdown",
      "source": [
        "#Group by two filters and describe (property type, and List year)"
      ],
      "metadata": {
        "id": "FGY31Xjs5up-"
      }
    },
    {
      "cell_type": "code",
      "source": [
        "sales_p_l = df.groupby(['Property Type', 'Residential Type'])['Sales Ratio'].agg(['count', 'mean', 'std', 'min', 'max']).reset_index()\n"
      ],
      "metadata": {
        "id": "IX1sPT1Rr4wm"
      },
      "execution_count": 63,
      "outputs": []
    },
    {
      "cell_type": "markdown",
      "source": [
        " sales ratio is calculated as assessed value divided by sale price. It looks like Commercial properties are typically sold at  a lower price than assessed. This means that there is a greater opportunity for the property to apperciate in value.\n",
        " Residential properties on the other hand are sold at a hihger price than the assessed value. However, both data sets have huge variances. I also noticed that the Residential data includes various types of homes including single family."
      ],
      "metadata": {
        "id": "g1xvKfHI57U8"
      }
    },
    {
      "cell_type": "code",
      "source": [
        "print(sales_ratio_stats.head(8))"
      ],
      "metadata": {
        "colab": {
          "base_uri": "https://localhost:8080/"
        },
        "id": "zowiL4PtpHJ3",
        "outputId": "bb1eb23d-741a-4cab-9b4f-44c5115dae30"
      },
      "execution_count": 64,
      "outputs": [
        {
          "output_type": "stream",
          "name": "stdout",
          "text": [
            "                   count       mean          std       min       25%  \\\n",
            "Property Type                                                          \n",
            "Apartments         943.0   1.436511     6.161979  0.000000  0.354100   \n",
            "Commercial        4208.0  11.687843    61.310579  0.000000  0.490075   \n",
            "Condo           105420.0   0.859678     7.166493  0.000000  0.587097   \n",
            "Four Family       2150.0   1.421730     4.410858  0.000000  0.569736   \n",
            "Industrial         533.0   1.504944     8.014744  0.004236  0.460000   \n",
            "Public Utility       8.0   2.936553     4.753591  0.024650  0.523239   \n",
            "Residential     112099.0   0.651249     2.412618  0.000000  0.461700   \n",
            "Single Family   401612.0   8.115082  2217.061338  0.000000  0.611774   \n",
            "\n",
            "                     50%       75%           max  \n",
            "Property Type                                     \n",
            "Apartments      0.462286  0.593730  9.219310e+01  \n",
            "Commercial      0.676950  1.000125  1.097024e+03  \n",
            "Condo           0.686107  0.810000  2.106697e+03  \n",
            "Four Family     0.795802  1.400000  1.825040e+02  \n",
            "Industrial      0.616400  0.799999  1.189000e+02  \n",
            "Public Utility  1.239450  2.660897  1.440130e+01  \n",
            "Residential     0.533500  0.617500  2.135675e+02  \n",
            "Single Family   0.705600  0.854600  1.226420e+06  \n"
          ]
        }
      ]
    },
    {
      "cell_type": "markdown",
      "source": [
        "\n",
        "here we see that residential types with the lowest deciations from the mean two and three family homes. Howemver, they have a lower amount of data compared to the rest."
      ],
      "metadata": {
        "id": "7-jJ1sXu74zH"
      }
    },
    {
      "cell_type": "code",
      "source": [
        "print(sales_p_l)"
      ],
      "metadata": {
        "id": "9eMMoX8JsVch",
        "outputId": "915a2831-34c1-492c-9fff-99e2cce95816",
        "colab": {
          "base_uri": "https://localhost:8080/"
        }
      },
      "execution_count": 65,
      "outputs": [
        {
          "output_type": "stream",
          "name": "stdout",
          "text": [
            "   Property Type Residential Type   count      mean          std       min  \\\n",
            "0          Condo            Condo  105420  0.859678     7.166493  0.000000   \n",
            "1    Four Family      Four Family    2150  1.421730     4.410858  0.000000   \n",
            "2    Residential            Condo   23369  0.738560     4.537434  0.000000   \n",
            "3    Residential      Four Family     613  0.640981     2.265409  0.109377   \n",
            "4    Residential    Single Family   78954  0.634329     1.430256  0.000000   \n",
            "5    Residential     Three Family    2956  0.508459     0.593619  0.000577   \n",
            "6    Residential       Two Family    6207  0.606758     0.934521  0.005325   \n",
            "7  Single Family    Single Family  401612  8.115082  2217.061338  0.000000   \n",
            "8   Three Family     Three Family   12586  1.444156     3.835679  0.000000   \n",
            "9     Two Family       Two Family   26408  1.213041     2.477402  0.000000   \n",
            "\n",
            "            max  \n",
            "0  2.106697e+03  \n",
            "1  1.825040e+02  \n",
            "2  2.135675e+02  \n",
            "3  5.593330e+01  \n",
            "4  1.186760e+02  \n",
            "5  2.790200e+01  \n",
            "6  6.020170e+01  \n",
            "7  1.226420e+06  \n",
            "8  1.453200e+02  \n",
            "9  1.390667e+02  \n"
          ]
        }
      ]
    },
    {
      "cell_type": "markdown",
      "source": [
        "I decide to make analysis on single family homes. To do this, I have to filter the residential and single family rows under the Property type, and then subfilter it by the single family residential type."
      ],
      "metadata": {
        "id": "9YLS8of6D9fU"
      }
    },
    {
      "cell_type": "code",
      "source": [
        "# 8. Filter the data where 'Property Type' is 'Residential'\n",
        "residential_df = df[df['Property Type'].isin(['Residential', 'Single Family'])]\n",
        "residential_df['Residential Type'] = 'Single Family'\n",
        "\n",
        "# Display the filtered DataFrame\n",
        "print(residential_df)"
      ],
      "metadata": {
        "id": "nb8Cic7PQ5lk",
        "outputId": "9c401af4-8620-41c1-e81b-4f91cc2034b9",
        "colab": {
          "base_uri": "https://localhost:8080/"
        }
      },
      "execution_count": 66,
      "outputs": [
        {
          "output_type": "stream",
          "name": "stdout",
          "text": [
            "             ID  List Year Date Recorded           Town  \\\n",
            "1         20002       2020    10/02/2020        Ashford   \n",
            "2        210317       2021    07/05/2022           Avon   \n",
            "3        200212       2020    03/09/2021           Avon   \n",
            "4        200243       2020    04/13/2021           Avon   \n",
            "5        200377       2020    07/02/2021           Avon   \n",
            "...         ...        ...           ...            ...   \n",
            "1054153  190272       2019    08/03/2020         Wilton   \n",
            "1054154  190272       2019    06/24/2020     New London   \n",
            "1054155  190284       2019    11/27/2019      Waterbury   \n",
            "1054156  190129       2019    04/27/2020  Windsor Locks   \n",
            "1054157  190504       2019    06/03/2020     Middletown   \n",
            "\n",
            "                       Address  Assessed Value  Sale Price  Sales Ratio  \\\n",
            "1              390 TURNPIKE RD        253000.0    430000.0     0.588300   \n",
            "2              53 COTSWOLD WAY        329730.0    805000.0     0.409600   \n",
            "3             5 CHESTNUT DRIVE        130400.0    179900.0     0.724800   \n",
            "4        111 NORTHINGTON DRIVE        619290.0    890000.0     0.695800   \n",
            "5           70 FAR HILLS DRIVE        862330.0   1447500.0     0.595700   \n",
            "...                        ...             ...         ...          ...   \n",
            "1054153       145 WHIPSTICK RD        681870.0   1134708.0     0.600900   \n",
            "1054154            4 BISHOP CT         60410.0     53100.0     1.137665   \n",
            "1054155        126 PERKINS AVE         68280.0     76000.0     0.898400   \n",
            "1054156         19 HATHAWAY ST        121450.0    210000.0     0.578300   \n",
            "1054157           8 BYSTREK DR        203360.0    280000.0     0.726300   \n",
            "\n",
            "         Property Type Residential Type  \n",
            "1          Residential    Single Family  \n",
            "2          Residential    Single Family  \n",
            "3          Residential    Single Family  \n",
            "4          Residential    Single Family  \n",
            "5          Residential    Single Family  \n",
            "...                ...              ...  \n",
            "1054153  Single Family    Single Family  \n",
            "1054154  Single Family    Single Family  \n",
            "1054155  Single Family    Single Family  \n",
            "1054156  Single Family    Single Family  \n",
            "1054157  Single Family    Single Family  \n",
            "\n",
            "[513711 rows x 10 columns]\n"
          ]
        },
        {
          "output_type": "stream",
          "name": "stderr",
          "text": [
            "<ipython-input-66-d99e53203fb2>:3: SettingWithCopyWarning: \n",
            "A value is trying to be set on a copy of a slice from a DataFrame.\n",
            "Try using .loc[row_indexer,col_indexer] = value instead\n",
            "\n",
            "See the caveats in the documentation: https://pandas.pydata.org/pandas-docs/stable/user_guide/indexing.html#returning-a-view-versus-a-copy\n",
            "  residential_df['Residential Type'] = 'Single Family'\n"
          ]
        }
      ]
    },
    {
      "cell_type": "markdown",
      "source": [
        "I add a column called Difference calculating the difference between Sale Amount and Assessed Value"
      ],
      "metadata": {
        "id": "QUuOPXdXE3Nb"
      }
    },
    {
      "cell_type": "code",
      "source": [
        "\n",
        "residential_df['Difference'] = residential_df['Sale Price'] - residential_df['Assessed Value']\n"
      ],
      "metadata": {
        "colab": {
          "base_uri": "https://localhost:8080/"
        },
        "id": "gwz0fiy5Id1-",
        "outputId": "d6379702-6842-4665-d349-9d1051a55918"
      },
      "execution_count": 67,
      "outputs": [
        {
          "output_type": "stream",
          "name": "stderr",
          "text": [
            "<ipython-input-67-d80ae09516c0>:1: SettingWithCopyWarning: \n",
            "A value is trying to be set on a copy of a slice from a DataFrame.\n",
            "Try using .loc[row_indexer,col_indexer] = value instead\n",
            "\n",
            "See the caveats in the documentation: https://pandas.pydata.org/pandas-docs/stable/user_guide/indexing.html#returning-a-view-versus-a-copy\n",
            "  residential_df['Difference'] = residential_df['Sale Price'] - residential_df['Assessed Value']\n"
          ]
        }
      ]
    },
    {
      "cell_type": "markdown",
      "source": [],
      "metadata": {
        "id": "6qHnsMvfLd9J"
      }
    },
    {
      "cell_type": "code",
      "source": [
        "#8. Filter for differences greater than 0\n",
        "positive_diff_df = residential_df[residential_df['Difference'] > 0]"
      ],
      "metadata": {
        "id": "lM7TZ1pcJz2v"
      },
      "execution_count": 68,
      "outputs": []
    },
    {
      "cell_type": "code",
      "source": [
        "town_counts = positive_diff_df['Town'].value_counts()"
      ],
      "metadata": {
        "id": "fWhqcl3VLp2_"
      },
      "execution_count": 70,
      "outputs": []
    },
    {
      "cell_type": "code",
      "source": [
        "# Top Towns with the positive difference from assessed\n",
        "print(town_counts.head())"
      ],
      "metadata": {
        "colab": {
          "base_uri": "https://localhost:8080/"
        },
        "id": "lewZYYHCL0yr",
        "outputId": "df6e3d52-1335-4e2a-eecf-79861cb5bb9a"
      },
      "execution_count": 69,
      "outputs": [
        {
          "output_type": "stream",
          "name": "stdout",
          "text": [
            "Stamford         11026\n",
            "West Hartford    10610\n",
            "Norwalk          10117\n",
            "Waterbury        10013\n",
            "Fairfield         9699\n",
            "Name: Town, dtype: int64\n"
          ]
        }
      ]
    },
    {
      "cell_type": "code",
      "source": [
        "print(positive_diff_df.head(5))"
      ],
      "metadata": {
        "colab": {
          "base_uri": "https://localhost:8080/"
        },
        "id": "L80e4to7Nd3w",
        "outputId": "939166b7-c4a0-4e6f-aa55-18fe6b1c0b75"
      },
      "execution_count": 71,
      "outputs": [
        {
          "output_type": "stream",
          "name": "stdout",
          "text": [
            "       ID  List Year Date Recorded     Town                Address  \\\n",
            "1   20002       2020    10/02/2020  Ashford        390 TURNPIKE RD   \n",
            "2  210317       2021    07/05/2022     Avon        53 COTSWOLD WAY   \n",
            "3  200212       2020    03/09/2021     Avon       5 CHESTNUT DRIVE   \n",
            "4  200243       2020    04/13/2021     Avon  111 NORTHINGTON DRIVE   \n",
            "5  200377       2020    07/02/2021     Avon     70 FAR HILLS DRIVE   \n",
            "\n",
            "   Assessed Value  Sale Price  Sales Ratio Property Type Residential Type  \\\n",
            "1        253000.0    430000.0       0.5883   Residential    Single Family   \n",
            "2        329730.0    805000.0       0.4096   Residential    Single Family   \n",
            "3        130400.0    179900.0       0.7248   Residential    Single Family   \n",
            "4        619290.0    890000.0       0.6958   Residential    Single Family   \n",
            "5        862330.0   1447500.0       0.5957   Residential    Single Family   \n",
            "\n",
            "   Difference  \n",
            "1    177000.0  \n",
            "2    475270.0  \n",
            "3     49500.0  \n",
            "4    270710.0  \n",
            "5    585170.0  \n"
          ]
        }
      ]
    },
    {
      "cell_type": "code",
      "source": [
        "#7. filter by multiple values sort the list by town in ascending\n",
        "sorted_df = positive_diff_df.sort_values(by='Town')"
      ],
      "metadata": {
        "id": "Y3NSJtIbPYHn"
      },
      "execution_count": 72,
      "outputs": []
    },
    {
      "cell_type": "code",
      "source": [
        "#10 check values\n",
        "print(sorted_df.head(5))"
      ],
      "metadata": {
        "colab": {
          "base_uri": "https://localhost:8080/"
        },
        "id": "oYuV41sIPbcm",
        "outputId": "4bca76c2-8970-46c7-a5a0-eeba6908f0cc"
      },
      "execution_count": 73,
      "outputs": [
        {
          "output_type": "stream",
          "name": "stdout",
          "text": [
            "            ID  List Year Date Recorded           Town           Address  \\\n",
            "501603   70086       2007    12/18/2007  ***Unknown***   18 MATHIEU LANE   \n",
            "1030994  19013       2019    12/09/2019        Andover      43 GILEAD RD   \n",
            "894732   17031       2017    03/26/2018        Andover  48 PINE RIDGE DR   \n",
            "18248    20064       2020    08/24/2021        Andover      62 SCHOOL RD   \n",
            "904056   17032       2017    03/26/2018        Andover   7 WINDRUSH LANE   \n",
            "\n",
            "         Assessed Value  Sale Price  Sales Ratio  Property Type  \\\n",
            "501603          66540.0    282450.0     0.235582  Single Family   \n",
            "1030994        236800.0    315000.0     0.751700  Single Family   \n",
            "894732         122500.0    170000.0     0.720500  Single Family   \n",
            "18248          137600.0    280000.0     0.491400    Residential   \n",
            "904056         261200.0    325000.0     0.803692  Single Family   \n",
            "\n",
            "        Residential Type  Difference  \n",
            "501603     Single Family    215910.0  \n",
            "1030994    Single Family     78200.0  \n",
            "894732     Single Family     47500.0  \n",
            "18248      Single Family    142400.0  \n",
            "904056     Single Family     63800.0  \n"
          ]
        }
      ]
    },
    {
      "cell_type": "code",
      "source": [
        "#5. Remove multiple columns = ID, Date Recorded, and List Year\n",
        "sorted_df = sorted_df.drop(columns=['ID', 'Date Recorded', 'List Year', 'Property Type'])"
      ],
      "metadata": {
        "id": "d_lvcOgLPq13"
      },
      "execution_count": 74,
      "outputs": []
    },
    {
      "cell_type": "code",
      "source": [
        "print(sorted_df.head(5))"
      ],
      "metadata": {
        "colab": {
          "base_uri": "https://localhost:8080/"
        },
        "id": "Iz2dJDE5PyMf",
        "outputId": "69322fac-2cbd-4254-f781-c78167a3a0a5"
      },
      "execution_count": 75,
      "outputs": [
        {
          "output_type": "stream",
          "name": "stdout",
          "text": [
            "                  Town           Address  Assessed Value  Sale Price  \\\n",
            "501603   ***Unknown***   18 MATHIEU LANE         66540.0    282450.0   \n",
            "1030994        Andover      43 GILEAD RD        236800.0    315000.0   \n",
            "894732         Andover  48 PINE RIDGE DR        122500.0    170000.0   \n",
            "18248          Andover      62 SCHOOL RD        137600.0    280000.0   \n",
            "904056         Andover   7 WINDRUSH LANE        261200.0    325000.0   \n",
            "\n",
            "         Sales Ratio Residential Type  Difference  \n",
            "501603      0.235582    Single Family    215910.0  \n",
            "1030994     0.751700    Single Family     78200.0  \n",
            "894732      0.720500    Single Family     47500.0  \n",
            "18248       0.491400    Single Family    142400.0  \n",
            "904056      0.803692    Single Family     63800.0  \n"
          ]
        }
      ]
    },
    {
      "cell_type": "code",
      "source": [
        "# Filter the DataFrame for properties in Stamford\n",
        "stamford_df = sorted_df[sorted_df['Town'] == 'Stamford']\n",
        "\n",
        "# Calculate the average Sales Ratio for properties in Stamford\n",
        "average_sales_ratio_stamford = stamford_df['Sales Ratio'].mean()\n",
        "average_difference = stamford_df['Difference'].mean()"
      ],
      "metadata": {
        "id": "iBNZgIAQShVe"
      },
      "execution_count": 76,
      "outputs": []
    },
    {
      "cell_type": "code",
      "source": [
        "#9 capitalize the entire strings in column Town\n",
        "stamford_df['Town'] = stamford_df['Town'].str.upper()"
      ],
      "metadata": {
        "colab": {
          "base_uri": "https://localhost:8080/"
        },
        "id": "SuoNnfGzktZN",
        "outputId": "5a428558-1e8f-4c45-df87-59905510e50f"
      },
      "execution_count": 77,
      "outputs": [
        {
          "output_type": "stream",
          "name": "stderr",
          "text": [
            "<ipython-input-77-985c955b8b73>:2: SettingWithCopyWarning: \n",
            "A value is trying to be set on a copy of a slice from a DataFrame.\n",
            "Try using .loc[row_indexer,col_indexer] = value instead\n",
            "\n",
            "See the caveats in the documentation: https://pandas.pydata.org/pandas-docs/stable/user_guide/indexing.html#returning-a-view-versus-a-copy\n",
            "  stamford_df['Town'] = stamford_df['Town'].str.upper()\n"
          ]
        }
      ]
    },
    {
      "cell_type": "code",
      "source": [
        "print(stamford_df)"
      ],
      "metadata": {
        "colab": {
          "base_uri": "https://localhost:8080/"
        },
        "id": "B2ie8fUHk0JZ",
        "outputId": "69d1d0f9-4072-4e78-fa65-4571b090f57e"
      },
      "execution_count": 78,
      "outputs": [
        {
          "output_type": "stream",
          "name": "stdout",
          "text": [
            "             Town                  Address  Assessed Value  Sale Price  \\\n",
            "53147    STAMFORD   377 GLENBROOK ROAD # 5        239310.0    373000.0   \n",
            "634066   STAMFORD        65 NORTHWOOD LANE        479100.0    705000.0   \n",
            "977998   STAMFORD         106 THIRD STREET        397880.0    550000.0   \n",
            "844212   STAMFORD       261 WIRE MILL ROAD        335750.0    555000.0   \n",
            "51629    STAMFORD             4 WEST TRAIL        388420.0    585000.0   \n",
            "...           ...                      ...             ...         ...   \n",
            "1017926  STAMFORD             90 POND ROAD        431940.0    840000.0   \n",
            "113902   STAMFORD  0 SUMMER STREET #140-1D         86560.0    162000.0   \n",
            "902864   STAMFORD        46 LINCOLN AVENUE        183440.0    215000.0   \n",
            "847209   STAMFORD      241 DAVENPORT DRIVE        572630.0   1255000.0   \n",
            "586837   STAMFORD        156 PINEWOOD ROAD        742350.0    875000.0   \n",
            "\n",
            "         Sales Ratio Residential Type  Difference  \n",
            "53147       0.641500    Single Family    133690.0  \n",
            "634066      0.679574    Single Family    225900.0  \n",
            "977998      0.723400    Single Family    152120.0  \n",
            "844212      0.604955    Single Family    219250.0  \n",
            "51629       0.663900    Single Family    196580.0  \n",
            "...              ...              ...         ...  \n",
            "1017926     0.514200    Single Family    408060.0  \n",
            "113902      0.534300    Single Family     75440.0  \n",
            "902864      0.853209    Single Family     31560.0  \n",
            "847209      0.456279    Single Family    682370.0  \n",
            "586837      0.848400    Single Family    132650.0  \n",
            "\n",
            "[11026 rows x 7 columns]\n"
          ]
        }
      ]
    },
    {
      "cell_type": "code",
      "source": [
        "average_sales_ratio_stamford"
      ],
      "metadata": {
        "colab": {
          "base_uri": "https://localhost:8080/"
        },
        "id": "spomjABFSq9W",
        "outputId": "628ee6d5-7902-46af-bf80-e13bfde938dc"
      },
      "execution_count": 79,
      "outputs": [
        {
          "output_type": "execute_result",
          "data": {
            "text/plain": [
              "0.651437354340196"
            ]
          },
          "metadata": {},
          "execution_count": 79
        }
      ]
    },
    {
      "cell_type": "code",
      "source": [
        "average_difference"
      ],
      "metadata": {
        "colab": {
          "base_uri": "https://localhost:8080/"
        },
        "id": "r_mQ-mUNatDY",
        "outputId": "783701bc-b145-4477-bc34-8f98f4b4df5d"
      },
      "execution_count": 80,
      "outputs": [
        {
          "output_type": "execute_result",
          "data": {
            "text/plain": [
              "397277.3355704698"
            ]
          },
          "metadata": {},
          "execution_count": 80
        }
      ]
    },
    {
      "cell_type": "code",
      "source": [
        "Stamford_diff = stamford_df['Difference'].describe()\n",
        "Stamford_diff_rounded = Stamford_diff.round()\n",
        "print(Stamford_diff_rounded)\n"
      ],
      "metadata": {
        "colab": {
          "base_uri": "https://localhost:8080/"
        },
        "id": "IKw8NQv7tf8v",
        "outputId": "b4bc89ee-11f4-4cd1-b504-d00ef403121d"
      },
      "execution_count": 81,
      "outputs": [
        {
          "output_type": "stream",
          "name": "stdout",
          "text": [
            "count       11026.0\n",
            "mean       397277.0\n",
            "std       3415000.0\n",
            "min            90.0\n",
            "25%        116095.0\n",
            "50%        190055.0\n",
            "75%        284555.0\n",
            "max      71993030.0\n",
            "Name: Difference, dtype: float64\n"
          ]
        }
      ]
    },
    {
      "cell_type": "code",
      "source": [
        "import numpy as np\n",
        "import matplotlib.pyplot as plt\n",
        "\n",
        "\n",
        "samples = np.random.normal(loc=mean, scale=std, size=int(count))\n",
        "# Assuming you have already obtained the histogram data\n",
        "density_values, bin_edges, _ = plt.hist(samples, bins=100, density=True, alpha=0.6, color='g')\n",
        "\n",
        "# Calculate the width of each bin\n",
        "bin_widths = np.diff(bin_edges)\n",
        "\n",
        "# Calculate the total area under the histogram\n",
        "total_area = np.sum(density_values * bin_widths)\n",
        "\n",
        "# Normalize the density values\n",
        "normalized_density_values = density_values / total_area\n",
        "\n",
        "# Make sure the sum of normalized density values equals 1\n",
        "normalized_density_values /= np.sum(normalized_density_values)\n",
        "\n",
        "# Now, plot the histogram with the normalized density values\n",
        "plt.bar(bin_edges[:-1], normalized_density_values, width=bin_widths, alpha=0.6, color='g')\n",
        "plt.xlabel(\"Bins\")\n",
        "plt.ylabel(\"Normalized Density\")\n",
        "plt.title(\"Normalized Histogram\")\n",
        "plt.show()"
      ],
      "metadata": {
        "colab": {
          "base_uri": "https://localhost:8080/",
          "height": 472
        },
        "id": "8GIX-42QNXvi",
        "outputId": "3abec0e9-a6f1-4b6f-89b2-c2a7e1f52b68"
      },
      "execution_count": 88,
      "outputs": [
        {
          "output_type": "display_data",
          "data": {
            "text/plain": [
              "<Figure size 640x480 with 1 Axes>"
            ],
            "image/png": "[encoded data removed]"
          },
          "metadata": {}
        }
      ]
    },
    {
      "cell_type": "markdown",
      "source": [
        "# Conclusions  \n",
        "\n",
        "After exploring your dataset, provide a short summary of what you noticed from this dataset.  What would you explore further with more time?"
      ],
      "metadata": {
        "id": "tujjevRpXEen"
      }
    },
    {
      "cell_type": "code",
      "source": [
        "# This data provides information on home sales by year, Town, and the type of property.\n",
        "# additionally, the data shows the Assessed price of the property and the actual sales price.\n",
        "# column 'Sales Ratio' is another column calculated by Assessed Price/salesprice\n",
        "# First I filterd the sales ratio by Property type and Year. I noticed that there was more data on Residential homes\n",
        "#Residential homes sales ratio is about 65% compared to commercial of 11.1%.\n",
        "#This means that on average single homes have sold for more than the assessed price and commercial properties have sold for much less than the assessed price\n",
        "# I calculated the selling price minus the assessed price to find the premium paid for the residential, single home properties\n",
        "# Stamford had sold more homes at a premium than any other single homes\n",
        "# the average sales ratio for stamford single homes was about 65%, close to the total single home average.\n",
        "# the average premium paid for a stamford home is $397K.\n",
        "# However, I noticed that there is a large standard deviation which makes predicting the market value of a single home in Stamford difficult, compared to the assessed value"
      ],
      "metadata": {
        "id": "k4oGNeQ_Q5Am"
      },
      "execution_count": null,
      "outputs": []
    },
    {
      "cell_type": "code",
      "source": [
        "# I could have repeated the same excerise for other towns or other types of property\n",
        "# Look for another property type or town with very small deviations from the premium mean"
      ],
      "metadata": {
        "id": "SshtuQj9XR5_"
      },
      "execution_count": 38,
      "outputs": []
    }
  ]
}